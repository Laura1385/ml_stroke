{
 "cells": [
  {
   "cell_type": "code",
   "execution_count": null,
   "id": "fe48ce53",
   "metadata": {
    "scrolled": false
   },
   "outputs": [],
   "source": [
    "#pip install mlxtend"
   ]
  },
  {
   "cell_type": "markdown",
   "id": "16cd1899",
   "metadata": {},
   "source": [
    "<h1 style=\"font-family:Calibri;color:black;font-size:197%;text-align:center\">Master Data science - a.a. 2022-2023 \n",
    "Final Project of Machine Learning</h1>\n",
    "<h1 style=\";font-family:Calibri;color:violet;font-size:170%;text-align:center;border-radius: px 50px;\"> student: Laura Proto </h1>"
   ]
  },
  {
   "cell_type": "markdown",
   "id": "84c316ae",
   "metadata": {},
   "source": [
    "<h1 style=\"background-color:#eaeaea;font-family:Calibri;color:#fe0b50;font-size:300%;text-align:center;border-radius: 50px;padding: 10px\">The Stroke Prediction Dataset</h1>"
   ]
  },
  {
   "cell_type": "code",
   "execution_count": null,
   "id": "bb2de56c",
   "metadata": {
    "scrolled": false
   },
   "outputs": [],
   "source": [
    "from PIL import Image\n",
    "from IPython.display import display, HTML\n",
    "display(HTML(\"<div style='display:flex; justify-content:center;'><img src='stroke-main.jpg' style='max-width:100%;'></div>\"))"
   ]
  },
  {
   "cell_type": "markdown",
   "id": "b7b9850f",
   "metadata": {},
   "source": [
    "## Il Dataset ---Riscrivere meglio\n",
    "\n",
    "L'Organizzazione Mondiale della Sanità (OMS) riporta che l'ictus è la seconda causa di morte a livello mondiale e rappresenta circa l'11% di tutti i decessi. In base a variabili di input come sesso, età, varie malattie e stato di fumatore, questo set di dati* viene utilizzato per determinare se un paziente è a rischio di ictus. Le informazioni rilevanti sul paziente sono incluse in ogni riga dei dati.\n",
    "\n",
    "Ictus è un termine latino che significa \"colpo\" (in inglese stroke). Insorge, infatti, in maniera improvvisa: una persona in pieno benessere può accusare sintomi tipici che possono essere transitori, restare costanti o peggiorare nelle ore successive.\n",
    "\n",
    "Quando si verifica un’interruzione dell’apporto di sangue ossigenato oppure uno stravaso di sangue in un’area dell’encefalo, si determina la morte delle cellule nervose di quell’area. Di conseguenza, le funzioni neurologiche controllate da quell’area (che possono riguardare il movimento di un braccio o di una gamba, il linguaggio, la vista, l’udito, l’equilibrio o altro) vengono perse.\n",
    "\n",
    "In Italia l’ictus è la seconda causa di morte, dopo le malattie ischemiche del cuore, è responsabile del 9-10% di tutti i decessi e rappresenta la prima causa di invalidità. \n",
    "\n",
    "*fonte: https://www.kaggle.com/datasets/fedesoriano/stroke-prediction-dataset"
   ]
  },
  {
   "cell_type": "markdown",
   "id": "5d64a743",
   "metadata": {},
   "source": [
    "<h1 style=\"background-color:#eaeaea;font-family:Calibri;color:orange;font-size:250%;text-align:center;border-radius:50px;padding:10px 30px;\">Index</h1>"
   ]
  },
  {
   "cell_type": "markdown",
   "id": "38a4c2f3",
   "metadata": {},
   "source": [
    "- [Libraries & Utilities](#1)\n",
    "- [Data Preprocessing](#2)\n",
    "    - [Importing Dataset](#2.1)\n",
    "    - [Analysis of values](#2.2)\n",
    "    - [Definition of the Data Transformation Pipeline](#2.3)\n",
    "- [Model Selection: stroke](#3)\n",
    "    - [Outcome](#3.1)\n",
    "    - [Refinement of the selected model](#3.2)\n",
    "    - [Learning curve](#3.3)\n",
    "- [Another round with lifestyle](#4)  \n",
    "    - [Model Selection: sport](#4.1) \n",
    "    - [Outcome](#4.2)\n",
    "    - [Refinement of the selected model](#4.3)\n",
    "    - [Learning curve](#4.4)\n",
    "- [Conclusions](#5)"
   ]
  },
  {
   "cell_type": "markdown",
   "id": "ae9ce150",
   "metadata": {},
   "source": [
    "<a id = '1'></a>\n",
    "<h1 style=\"background-color:#eaeaea;font-family:Calibri;color:blue;font-size:250%;text-align:center;border-radius:50px;padding:10px 30px;\">Libraries</h1>"
   ]
  },
  {
   "cell_type": "code",
   "execution_count": 1,
   "id": "ba4daecf",
   "metadata": {
    "scrolled": false
   },
   "outputs": [],
   "source": [
    "import utils as ut\n",
    "import pandas as pd\n",
    "import numpy as np\n",
    "import seaborn as sns \n",
    "import itertools\n",
    "import missingno as msno\n",
    "import matplotlib.pyplot as plt\n",
    "import plotly.express as px\n",
    "\n",
    "from plotly.subplots import make_subplots\n",
    "from PIL import Image\n",
    "from IPython.display import display, HTML\n",
    "from sklearn.base import BaseEstimator, TransformerMixin\n",
    "from sklearn.pipeline import Pipeline \n",
    "from sklearn.compose import ColumnTransformer\n",
    "from sklearn.metrics import f1_score, roc_auc_score\n",
    "from sklearn.model_selection import learning_curve, validation_curve, train_test_split, KFold, StratifiedKFold, cross_val_score, GridSearchCV, RandomizedSearchCV, cross_validate, RepeatedStratifiedKFold\n",
    "from sklearn.linear_model import Perceptron, LogisticRegression\n",
    "from sklearn.neighbors import KNeighborsClassifier\n",
    "from sklearn.decomposition import PCA\n",
    "from sklearn.discriminant_analysis import LinearDiscriminantAnalysis as LDA\n",
    "from sklearn.impute import SimpleImputer, KNNImputer\n",
    "from sklearn.preprocessing import FunctionTransformer, StandardScaler, OneHotEncoder, OrdinalEncoder\n",
    "from sklearn.ensemble import RandomForestClassifier\n",
    "from scipy.stats import loguniform, beta, uniform\n",
    "from mlxtend.feature_selection import SequentialFeatureSelector as SFS\n",
    "from imblearn.over_sampling import SMOTE, RandomOverSampler\n",
    "from imblearn.pipeline import Pipeline as IMBPipeline\n",
    "\n",
    "\n",
    "import warnings\n",
    "warnings.filterwarnings('ignore')"
   ]
  },
  {
   "cell_type": "markdown",
   "id": "eb7972a9",
   "metadata": {},
   "source": [
    "<a id = '2'></a>\n",
    "<h1 style=\"background-color:#eaeaea;font-family:Calibri;color:orange;font-size:250%;text-align:center;border-radius: 50px;padding:10px 30px\">Data Preprocessing</h1>"
   ]
  },
  {
   "cell_type": "markdown",
   "id": "4a972075",
   "metadata": {},
   "source": [
    "<a id = '2.1'></a>\n",
    "<h1 style=\"font-size: 150%;\">Importing Data set </h1>"
   ]
  },
  {
   "cell_type": "code",
   "execution_count": 2,
   "id": "9aea2cca",
   "metadata": {
    "scrolled": false
   },
   "outputs": [],
   "source": [
    "#loading data\n",
    "df_stroke = pd.read_csv('healthcare-dataset-stroke-data.csv', delimiter = ',')"
   ]
  },
  {
   "cell_type": "code",
   "execution_count": 3,
   "id": "a716fa09",
   "metadata": {
    "scrolled": true
   },
   "outputs": [
    {
     "data": {
      "text/html": [
       "<div>\n",
       "<style scoped>\n",
       "    .dataframe tbody tr th:only-of-type {\n",
       "        vertical-align: middle;\n",
       "    }\n",
       "\n",
       "    .dataframe tbody tr th {\n",
       "        vertical-align: top;\n",
       "    }\n",
       "\n",
       "    .dataframe thead th {\n",
       "        text-align: right;\n",
       "    }\n",
       "</style>\n",
       "<table border=\"1\" class=\"dataframe\">\n",
       "  <thead>\n",
       "    <tr style=\"text-align: right;\">\n",
       "      <th></th>\n",
       "      <th>id</th>\n",
       "      <th>gender</th>\n",
       "      <th>age</th>\n",
       "      <th>hypertension</th>\n",
       "      <th>heart_disease</th>\n",
       "      <th>ever_married</th>\n",
       "      <th>work_type</th>\n",
       "      <th>Residence_type</th>\n",
       "      <th>avg_glucose_level</th>\n",
       "      <th>bmi</th>\n",
       "      <th>smoking_status</th>\n",
       "      <th>stroke</th>\n",
       "    </tr>\n",
       "  </thead>\n",
       "  <tbody>\n",
       "    <tr>\n",
       "      <th>0</th>\n",
       "      <td>9046</td>\n",
       "      <td>Male</td>\n",
       "      <td>67.0</td>\n",
       "      <td>0</td>\n",
       "      <td>1</td>\n",
       "      <td>Yes</td>\n",
       "      <td>Private</td>\n",
       "      <td>Urban</td>\n",
       "      <td>228.69</td>\n",
       "      <td>36.6</td>\n",
       "      <td>formerly smoked</td>\n",
       "      <td>1</td>\n",
       "    </tr>\n",
       "    <tr>\n",
       "      <th>1</th>\n",
       "      <td>51676</td>\n",
       "      <td>Female</td>\n",
       "      <td>61.0</td>\n",
       "      <td>0</td>\n",
       "      <td>0</td>\n",
       "      <td>Yes</td>\n",
       "      <td>Self-employed</td>\n",
       "      <td>Rural</td>\n",
       "      <td>202.21</td>\n",
       "      <td>NaN</td>\n",
       "      <td>never smoked</td>\n",
       "      <td>1</td>\n",
       "    </tr>\n",
       "    <tr>\n",
       "      <th>2</th>\n",
       "      <td>31112</td>\n",
       "      <td>Male</td>\n",
       "      <td>80.0</td>\n",
       "      <td>0</td>\n",
       "      <td>1</td>\n",
       "      <td>Yes</td>\n",
       "      <td>Private</td>\n",
       "      <td>Rural</td>\n",
       "      <td>105.92</td>\n",
       "      <td>32.5</td>\n",
       "      <td>never smoked</td>\n",
       "      <td>1</td>\n",
       "    </tr>\n",
       "    <tr>\n",
       "      <th>3</th>\n",
       "      <td>60182</td>\n",
       "      <td>Female</td>\n",
       "      <td>49.0</td>\n",
       "      <td>0</td>\n",
       "      <td>0</td>\n",
       "      <td>Yes</td>\n",
       "      <td>Private</td>\n",
       "      <td>Urban</td>\n",
       "      <td>171.23</td>\n",
       "      <td>34.4</td>\n",
       "      <td>smokes</td>\n",
       "      <td>1</td>\n",
       "    </tr>\n",
       "    <tr>\n",
       "      <th>4</th>\n",
       "      <td>1665</td>\n",
       "      <td>Female</td>\n",
       "      <td>79.0</td>\n",
       "      <td>1</td>\n",
       "      <td>0</td>\n",
       "      <td>Yes</td>\n",
       "      <td>Self-employed</td>\n",
       "      <td>Rural</td>\n",
       "      <td>174.12</td>\n",
       "      <td>24.0</td>\n",
       "      <td>never smoked</td>\n",
       "      <td>1</td>\n",
       "    </tr>\n",
       "    <tr>\n",
       "      <th>5</th>\n",
       "      <td>56669</td>\n",
       "      <td>Male</td>\n",
       "      <td>81.0</td>\n",
       "      <td>0</td>\n",
       "      <td>0</td>\n",
       "      <td>Yes</td>\n",
       "      <td>Private</td>\n",
       "      <td>Urban</td>\n",
       "      <td>186.21</td>\n",
       "      <td>29.0</td>\n",
       "      <td>formerly smoked</td>\n",
       "      <td>1</td>\n",
       "    </tr>\n",
       "    <tr>\n",
       "      <th>6</th>\n",
       "      <td>53882</td>\n",
       "      <td>Male</td>\n",
       "      <td>74.0</td>\n",
       "      <td>1</td>\n",
       "      <td>1</td>\n",
       "      <td>Yes</td>\n",
       "      <td>Private</td>\n",
       "      <td>Rural</td>\n",
       "      <td>70.09</td>\n",
       "      <td>27.4</td>\n",
       "      <td>never smoked</td>\n",
       "      <td>1</td>\n",
       "    </tr>\n",
       "  </tbody>\n",
       "</table>\n",
       "</div>"
      ],
      "text/plain": [
       "      id  gender   age  hypertension  heart_disease ever_married  \\\n",
       "0   9046    Male  67.0             0              1          Yes   \n",
       "1  51676  Female  61.0             0              0          Yes   \n",
       "2  31112    Male  80.0             0              1          Yes   \n",
       "3  60182  Female  49.0             0              0          Yes   \n",
       "4   1665  Female  79.0             1              0          Yes   \n",
       "5  56669    Male  81.0             0              0          Yes   \n",
       "6  53882    Male  74.0             1              1          Yes   \n",
       "\n",
       "       work_type Residence_type  avg_glucose_level   bmi   smoking_status  \\\n",
       "0        Private          Urban             228.69  36.6  formerly smoked   \n",
       "1  Self-employed          Rural             202.21   NaN     never smoked   \n",
       "2        Private          Rural             105.92  32.5     never smoked   \n",
       "3        Private          Urban             171.23  34.4           smokes   \n",
       "4  Self-employed          Rural             174.12  24.0     never smoked   \n",
       "5        Private          Urban             186.21  29.0  formerly smoked   \n",
       "6        Private          Rural              70.09  27.4     never smoked   \n",
       "\n",
       "   stroke  \n",
       "0       1  \n",
       "1       1  \n",
       "2       1  \n",
       "3       1  \n",
       "4       1  \n",
       "5       1  \n",
       "6       1  "
      ]
     },
     "execution_count": 3,
     "metadata": {},
     "output_type": "execute_result"
    }
   ],
   "source": [
    "#Dataframe \n",
    "df_stroke.head(7)"
   ]
  },
  {
   "cell_type": "code",
   "execution_count": 4,
   "id": "6fcd6cfd",
   "metadata": {
    "scrolled": false
   },
   "outputs": [
    {
     "name": "stdout",
     "output_type": "stream",
     "text": [
      "Dataset has 5110 rows and 12 columns\n"
     ]
    }
   ],
   "source": [
    "#Dataset shape\n",
    "print(f'Dataset has {df_stroke.shape[0]} rows and {df_stroke.shape[1]} columns')"
   ]
  },
  {
   "cell_type": "code",
   "execution_count": 5,
   "id": "75efcf97",
   "metadata": {},
   "outputs": [
    {
     "data": {
      "image/png": "[encoded data removed]",
      "text/plain": [
       "<Figure size 2500x1000 with 2 Axes>"
      ]
     },
     "metadata": {},
     "output_type": "display_data"
    }
   ],
   "source": [
    "#search missing value\n",
    "X = df_stroke.iloc[:, 1:14]  #select everything except the id column\n",
    "\n",
    "fig = msno.matrix(X)\n",
    "plt.title(\"Missing value\", fontsize=36, fontweight='bold')\n",
    "plt.show()"
   ]
  },
  {
   "cell_type": "code",
   "execution_count": 6,
   "id": "4c17206d",
   "metadata": {
    "scrolled": true
   },
   "outputs": [
    {
     "name": "stdout",
     "output_type": "stream",
     "text": [
      "Missing value of bmi: 201\n"
     ]
    }
   ],
   "source": [
    "#count bmi's missing value\n",
    "print('Missing value of bmi:', df_stroke.bmi.isnull().sum(axis=0))"
   ]
  },
  {
   "cell_type": "markdown",
   "id": "8e870901",
   "metadata": {},
   "source": [
    "<a id = '2.2'></a>\n",
    "<h1 style=\"font-size: 150%;\">Analysis of values</h1>"
   ]
  },
  {
   "cell_type": "code",
   "execution_count": 7,
   "id": "aac976cd",
   "metadata": {
    "scrolled": false
   },
   "outputs": [
    {
     "name": "stdout",
     "output_type": "stream",
     "text": [
      "<class 'pandas.core.frame.DataFrame'>\n",
      "RangeIndex: 5110 entries, 0 to 5109\n",
      "Data columns (total 12 columns):\n",
      " #   Column             Non-Null Count  Dtype  \n",
      "---  ------             --------------  -----  \n",
      " 0   id                 5110 non-null   int64  \n",
      " 1   gender             5110 non-null   object \n",
      " 2   age                5110 non-null   float64\n",
      " 3   hypertension       5110 non-null   int64  \n",
      " 4   heart_disease      5110 non-null   int64  \n",
      " 5   ever_married       5110 non-null   object \n",
      " 6   work_type          5110 non-null   object \n",
      " 7   Residence_type     5110 non-null   object \n",
      " 8   avg_glucose_level  5110 non-null   float64\n",
      " 9   bmi                4909 non-null   float64\n",
      " 10  smoking_status     5110 non-null   object \n",
      " 11  stroke             5110 non-null   int64  \n",
      "dtypes: float64(3), int64(4), object(5)\n",
      "memory usage: 479.2+ KB\n"
     ]
    }
   ],
   "source": [
    "#info about DataFrame\n",
    "df_stroke.info()"
   ]
  },
  {
   "cell_type": "markdown",
   "id": "63246b7b",
   "metadata": {},
   "source": [
    "There are three types of data in the dataset:\n",
    "1. *Categorical* : gender, ever_married, work_type, Residence_type, smoking_status\n",
    "2. *Binary Numerical* : hypertension,heart_disease, stroke\n",
    "3. *Continous Numerical* : age, avg_glucose_level, bmi"
   ]
  },
  {
   "cell_type": "code",
   "execution_count": 8,
   "id": "d03f03ef",
   "metadata": {
    "scrolled": true
   },
   "outputs": [
    {
     "name": "stdout",
     "output_type": "stream",
     "text": [
      "gender's value: ['Male', 'Female', 'Other']\n",
      "ever_married's value: ['Yes', 'No']\n",
      "work_type's value: ['Private', 'Self-employed', 'Govt_job', 'children', 'Never_worked']\n",
      "Residence_type's value: ['Urban', 'Rural']\n",
      "smoking_status's value: ['formerly smoked', 'never smoked', 'smokes', 'Unknown']\n"
     ]
    }
   ],
   "source": [
    "#unique column values with categorical data type\n",
    "for col in df_stroke.select_dtypes('object').columns:\n",
    "    print(col + \"'s value:\", df_stroke[col].unique().tolist())"
   ]
  },
  {
   "cell_type": "markdown",
   "id": "b33e698c",
   "metadata": {},
   "source": [
    "### Attribute Information\n",
    "\n",
    "1. **id**: unique identifier\n",
    "\n",
    "2. **gender**: Male, Female or Other\n",
    "\n",
    "3. **age**: patient's age\n",
    "\n",
    "4. **hypertension**: 0 patient without hypertension, 1 patient with hypertension\n",
    "\n",
    "5. **heart disease**: 0 patient without heart disease, 1 patient with heart disease\n",
    "\n",
    "6. **never_married**: Yes or No\n",
    "\n",
    "7. **job type**: Never worked, Private, Self-employed, Government, Children\n",
    "\n",
    "8. **Type_of_residence**: Rural or Urban\n",
    "\n",
    "9. **avg_glucose_level**: Average blood glucose level\n",
    "\n",
    "10. **bmi**: body mass index\n",
    "\n",
    "11. **smoking_status**: has ever smoked, never smoked, smokes or unknown*\n",
    "\n",
    "12. **stroke**: 1 if the patient has had a stroke, 0 if not\n",
    "\n",
    "*Note: Information is not available for that patient"
   ]
  },
  {
   "cell_type": "markdown",
   "id": "bc6fac29",
   "metadata": {},
   "source": [
    "### Statistics of numerical data"
   ]
  },
  {
   "cell_type": "code",
   "execution_count": 9,
   "id": "f5800cf2",
   "metadata": {
    "scrolled": false
   },
   "outputs": [
    {
     "data": {
      "text/html": [
       "<div>\n",
       "<style scoped>\n",
       "    .dataframe tbody tr th:only-of-type {\n",
       "        vertical-align: middle;\n",
       "    }\n",
       "\n",
       "    .dataframe tbody tr th {\n",
       "        vertical-align: top;\n",
       "    }\n",
       "\n",
       "    .dataframe thead th {\n",
       "        text-align: right;\n",
       "    }\n",
       "</style>\n",
       "<table border=\"1\" class=\"dataframe\">\n",
       "  <thead>\n",
       "    <tr style=\"text-align: right;\">\n",
       "      <th></th>\n",
       "      <th>id</th>\n",
       "      <th>age</th>\n",
       "      <th>hypertension</th>\n",
       "      <th>heart_disease</th>\n",
       "      <th>avg_glucose_level</th>\n",
       "      <th>bmi</th>\n",
       "      <th>stroke</th>\n",
       "    </tr>\n",
       "  </thead>\n",
       "  <tbody>\n",
       "    <tr>\n",
       "      <th>count</th>\n",
       "      <td>5110.00</td>\n",
       "      <td>5110.00</td>\n",
       "      <td>5110.0</td>\n",
       "      <td>5110.00</td>\n",
       "      <td>5110.00</td>\n",
       "      <td>4909.00</td>\n",
       "      <td>5110.00</td>\n",
       "    </tr>\n",
       "    <tr>\n",
       "      <th>mean</th>\n",
       "      <td>36517.83</td>\n",
       "      <td>43.23</td>\n",
       "      <td>0.1</td>\n",
       "      <td>0.05</td>\n",
       "      <td>106.15</td>\n",
       "      <td>28.89</td>\n",
       "      <td>0.05</td>\n",
       "    </tr>\n",
       "    <tr>\n",
       "      <th>std</th>\n",
       "      <td>21161.72</td>\n",
       "      <td>22.61</td>\n",
       "      <td>0.3</td>\n",
       "      <td>0.23</td>\n",
       "      <td>45.28</td>\n",
       "      <td>7.85</td>\n",
       "      <td>0.22</td>\n",
       "    </tr>\n",
       "    <tr>\n",
       "      <th>min</th>\n",
       "      <td>67.00</td>\n",
       "      <td>0.08</td>\n",
       "      <td>0.0</td>\n",
       "      <td>0.00</td>\n",
       "      <td>55.12</td>\n",
       "      <td>10.30</td>\n",
       "      <td>0.00</td>\n",
       "    </tr>\n",
       "    <tr>\n",
       "      <th>25%</th>\n",
       "      <td>17741.25</td>\n",
       "      <td>25.00</td>\n",
       "      <td>0.0</td>\n",
       "      <td>0.00</td>\n",
       "      <td>77.24</td>\n",
       "      <td>23.50</td>\n",
       "      <td>0.00</td>\n",
       "    </tr>\n",
       "    <tr>\n",
       "      <th>50%</th>\n",
       "      <td>36932.00</td>\n",
       "      <td>45.00</td>\n",
       "      <td>0.0</td>\n",
       "      <td>0.00</td>\n",
       "      <td>91.88</td>\n",
       "      <td>28.10</td>\n",
       "      <td>0.00</td>\n",
       "    </tr>\n",
       "    <tr>\n",
       "      <th>75%</th>\n",
       "      <td>54682.00</td>\n",
       "      <td>61.00</td>\n",
       "      <td>0.0</td>\n",
       "      <td>0.00</td>\n",
       "      <td>114.09</td>\n",
       "      <td>33.10</td>\n",
       "      <td>0.00</td>\n",
       "    </tr>\n",
       "    <tr>\n",
       "      <th>max</th>\n",
       "      <td>72940.00</td>\n",
       "      <td>82.00</td>\n",
       "      <td>1.0</td>\n",
       "      <td>1.00</td>\n",
       "      <td>271.74</td>\n",
       "      <td>97.60</td>\n",
       "      <td>1.00</td>\n",
       "    </tr>\n",
       "  </tbody>\n",
       "</table>\n",
       "</div>"
      ],
      "text/plain": [
       "             id      age  hypertension  heart_disease  avg_glucose_level  \\\n",
       "count   5110.00  5110.00        5110.0        5110.00            5110.00   \n",
       "mean   36517.83    43.23           0.1           0.05             106.15   \n",
       "std    21161.72    22.61           0.3           0.23              45.28   \n",
       "min       67.00     0.08           0.0           0.00              55.12   \n",
       "25%    17741.25    25.00           0.0           0.00              77.24   \n",
       "50%    36932.00    45.00           0.0           0.00              91.88   \n",
       "75%    54682.00    61.00           0.0           0.00             114.09   \n",
       "max    72940.00    82.00           1.0           1.00             271.74   \n",
       "\n",
       "           bmi   stroke  \n",
       "count  4909.00  5110.00  \n",
       "mean     28.89     0.05  \n",
       "std       7.85     0.22  \n",
       "min      10.30     0.00  \n",
       "25%      23.50     0.00  \n",
       "50%      28.10     0.00  \n",
       "75%      33.10     0.00  \n",
       "max      97.60     1.00  "
      ]
     },
     "execution_count": 9,
     "metadata": {},
     "output_type": "execute_result"
    }
   ],
   "source": [
    "round (df_stroke.describe(exclude = 'object'), 2)"
   ]
  },
  {
   "cell_type": "markdown",
   "id": "3d7566a4",
   "metadata": {},
   "source": [
    "### Statistics of categorical data"
   ]
  },
  {
   "cell_type": "code",
   "execution_count": 10,
   "id": "9c22c7fc",
   "metadata": {
    "scrolled": true
   },
   "outputs": [
    {
     "data": {
      "text/html": [
       "<div>\n",
       "<style scoped>\n",
       "    .dataframe tbody tr th:only-of-type {\n",
       "        vertical-align: middle;\n",
       "    }\n",
       "\n",
       "    .dataframe tbody tr th {\n",
       "        vertical-align: top;\n",
       "    }\n",
       "\n",
       "    .dataframe thead th {\n",
       "        text-align: right;\n",
       "    }\n",
       "</style>\n",
       "<table border=\"1\" class=\"dataframe\">\n",
       "  <thead>\n",
       "    <tr style=\"text-align: right;\">\n",
       "      <th></th>\n",
       "      <th>gender</th>\n",
       "      <th>ever_married</th>\n",
       "      <th>work_type</th>\n",
       "      <th>Residence_type</th>\n",
       "      <th>smoking_status</th>\n",
       "    </tr>\n",
       "  </thead>\n",
       "  <tbody>\n",
       "    <tr>\n",
       "      <th>count</th>\n",
       "      <td>5110</td>\n",
       "      <td>5110</td>\n",
       "      <td>5110</td>\n",
       "      <td>5110</td>\n",
       "      <td>5110</td>\n",
       "    </tr>\n",
       "    <tr>\n",
       "      <th>unique</th>\n",
       "      <td>3</td>\n",
       "      <td>2</td>\n",
       "      <td>5</td>\n",
       "      <td>2</td>\n",
       "      <td>4</td>\n",
       "    </tr>\n",
       "    <tr>\n",
       "      <th>top</th>\n",
       "      <td>Female</td>\n",
       "      <td>Yes</td>\n",
       "      <td>Private</td>\n",
       "      <td>Urban</td>\n",
       "      <td>never smoked</td>\n",
       "    </tr>\n",
       "    <tr>\n",
       "      <th>freq</th>\n",
       "      <td>2994</td>\n",
       "      <td>3353</td>\n",
       "      <td>2925</td>\n",
       "      <td>2596</td>\n",
       "      <td>1892</td>\n",
       "    </tr>\n",
       "  </tbody>\n",
       "</table>\n",
       "</div>"
      ],
      "text/plain": [
       "        gender ever_married work_type Residence_type smoking_status\n",
       "count     5110         5110      5110           5110           5110\n",
       "unique       3            2         5              2              4\n",
       "top     Female          Yes   Private          Urban   never smoked\n",
       "freq      2994         3353      2925           2596           1892"
      ]
     },
     "execution_count": 10,
     "metadata": {},
     "output_type": "execute_result"
    }
   ],
   "source": [
    "round (df_stroke.describe(exclude = ['float', 'int64']),2)"
   ]
  },
  {
   "cell_type": "code",
   "execution_count": 11,
   "id": "d6f58c56",
   "metadata": {},
   "outputs": [
    {
     "data": {
      "image/png": "[encoded data removed]",
      "text/plain": [
       "<Figure size 1700x1900 with 5 Axes>"
      ]
     },
     "metadata": {},
     "output_type": "display_data"
    }
   ],
   "source": [
    "plt.figure(figsize=(17,19))\n",
    "i = 1\n",
    "for column in df_stroke.select_dtypes(include='object').columns:\n",
    "    if column != \"id\":\n",
    "        plt.subplot(4, 2, i)\n",
    "        sns.countplot(x=column, hue=\"stroke\", data=df_stroke)\n",
    "        i += 1\n",
    "plt.show()\n"
   ]
  },
  {
   "cell_type": "code",
   "execution_count": 26,
   "id": "5d179412",
   "metadata": {},
   "outputs": [
    {
     "ename": "NameError",
     "evalue": "name 'data' is not defined",
     "output_type": "error",
     "traceback": [
      "\u001b[0;31m---------------------------------------------------------------------------\u001b[0m",
      "\u001b[0;31mNameError\u001b[0m                                 Traceback (most recent call last)",
      "Cell \u001b[0;32mIn[26], line 18\u001b[0m\n\u001b[1;32m     16\u001b[0m ax\u001b[38;5;241m.\u001b[39mset_ylabel(\u001b[38;5;124m'\u001b[39m\u001b[38;5;124mCount\u001b[39m\u001b[38;5;124m'\u001b[39m, fontsize\u001b[38;5;241m=\u001b[39m\u001b[38;5;241m14\u001b[39m, fontweight\u001b[38;5;241m=\u001b[39m\u001b[38;5;124m'\u001b[39m\u001b[38;5;124mbold\u001b[39m\u001b[38;5;124m'\u001b[39m, labelpad\u001b[38;5;241m=\u001b[39m\u001b[38;5;241m10\u001b[39m)\n\u001b[1;32m     17\u001b[0m ax\u001b[38;5;241m.\u001b[39myaxis\u001b[38;5;241m.\u001b[39mset_major_formatter(mtick\u001b[38;5;241m.\u001b[39mStrMethodFormatter(\u001b[38;5;124m'\u001b[39m\u001b[38;5;132;01m{x:,}\u001b[39;00m\u001b[38;5;124m'\u001b[39m))\n\u001b[0;32m---> 18\u001b[0m total \u001b[38;5;241m=\u001b[39m \u001b[38;5;28mfloat\u001b[39m(\u001b[38;5;28mlen\u001b[39m(\u001b[43mdata\u001b[49m[column]))\n\u001b[1;32m     19\u001b[0m \u001b[38;5;28;01mfor\u001b[39;00m p \u001b[38;5;129;01min\u001b[39;00m ax\u001b[38;5;241m.\u001b[39mpatches:\n\u001b[1;32m     20\u001b[0m     percentage \u001b[38;5;241m=\u001b[39m \u001b[38;5;124m'\u001b[39m\u001b[38;5;132;01m{:.1f}\u001b[39;00m\u001b[38;5;124m%\u001b[39m\u001b[38;5;124m'\u001b[39m\u001b[38;5;241m.\u001b[39mformat(\u001b[38;5;241m100\u001b[39m \u001b[38;5;241m*\u001b[39m p\u001b[38;5;241m.\u001b[39mget_height() \u001b[38;5;241m/\u001b[39m total)\n",
      "\u001b[0;31mNameError\u001b[0m: name 'data' is not defined"
     ]
    },
    {
     "data": {
      "image/png": "[encoded data removed]",
      "text/plain": [
       "<Figure size 1700x1900 with 1 Axes>"
      ]
     },
     "metadata": {},
     "output_type": "display_data"
    }
   ],
   "source": [
    "import matplotlib.pyplot as plt\n",
    "import seaborn as sns\n",
    "import matplotlib.ticker as mtick\n",
    "\n",
    "\n",
    "categorical_cols = df_stroke.select_dtypes(include=['object', 'category']).columns.tolist()\n",
    "\n",
    "\n",
    "plt.figure(figsize=(17, 19))\n",
    "i = 1\n",
    "for column in categorical_cols:\n",
    "    ax = plt.subplot(4, 2, i)\n",
    "    ax.set_title(column, fontsize=16, fontweight='bold', pad=15)\n",
    "    ax.tick_params(axis='both', which='major', labelsize=12)\n",
    "    ax.set_xlabel('')\n",
    "    ax.set_ylabel('Count', fontsize=14, fontweight='bold', labelpad=10)\n",
    "    ax.yaxis.set_major_formatter(mtick.StrMethodFormatter('{x:,}'))\n",
    "    total = float(len(df[column]))\n",
    "    for p in ax.patches:\n",
    "        percentage = '{:.1f}%'.format(100 * p.get_height() / total)\n",
    "        x = p.get_x() + p.get_width() / 2 - 0.05\n",
    "        y = p.get_y() + p.get_height() + 300\n",
    "        ax.annotate(percentage, (x, y), fontsize=14, fontweight='bold')\n",
    "    sns.countplot(x=data[column], hue=data[\"stroke\"], palette=['#9ecae1','#de2d26'])\n",
    "    i += 1\n",
    "plt.tight_layout()\n",
    "plt.show()\n"
   ]
  },
  {
   "cell_type": "code",
   "execution_count": 13,
   "id": "ed2bfc34",
   "metadata": {
    "scrolled": false
   },
   "outputs": [
    {
     "data": {
      "image/png": "[encoded data removed]",
      "text/plain": [
       "<Figure size 1500x500 with 6 Axes>"
      ]
     },
     "metadata": {},
     "output_type": "display_data"
    }
   ],
   "source": [
    "#graphics\n",
    "fig, ((ax1, ax2, ax3), (ax4, ax5, ax6)) = plt.subplots(2, 3, figsize=(15, 5))\n",
    "ut.bar_graphics (df_stroke,'Residence_type','Residence type', ax=ax1, y_max=5200)\n",
    "ut.bar_graphics (df_stroke,'ever_married','Ever married', ax=ax2, y_max=5200)\n",
    "ut.bar_graphics (df_stroke, 'gender', 'Gender', ax=ax3,y_max=5200)\n",
    "ut.bar_graphics (df_stroke,'stroke', 'Stroke', ax=ax4, y_max=5200)\n",
    "ut.bar_graphics (df_stroke,'work_type', 'Work type', 45, ax=ax5, y_max=5200)\n",
    "ut.bar_graphics (df_stroke,'smoking_status', 'Smoking status',45, ax=ax6, y_max=5200)\n",
    "fig.suptitle(\"A glimpse of the data...\", fontsize=20, y=0.93)\n",
    "fig.subplots_adjust(top=0.80, bottom=-0.4)\n",
    "fig.subplots_adjust(hspace = 0.25)"
   ]
  },
  {
   "cell_type": "code",
   "execution_count": 14,
   "id": "ff83d4ec",
   "metadata": {
    "scrolled": true
   },
   "outputs": [
    {
     "name": "stdout",
     "output_type": "stream",
     "text": [
      "The stroke column has 4861 values equal to 0 and 249 values equal to 1\n"
     ]
    }
   ],
   "source": [
    "#stoke's coloumn value\n",
    "counts = df_stroke['stroke'].value_counts()\n",
    "num_zeros = counts[0]\n",
    "num_one = counts[1]\n",
    "print(f'The stroke column has {num_zeros} values equal to 0 and {num_one} values equal to 1')"
   ]
  },
  {
   "cell_type": "markdown",
   "id": "0d3b88c7",
   "metadata": {},
   "source": [
    "<font size=\"4\" color=red> Very few patients have had a stroke: the dataset is unbalanced </font>"
   ]
  },
  {
   "cell_type": "markdown",
   "id": "63063393",
   "metadata": {},
   "source": [
    "<a id = '2.3'></a>\n",
    "<h1 style=\"font-size: 150%;\">Definition of the Data Transformation Pipeline </h1>"
   ]
  },
  {
   "cell_type": "code",
   "execution_count": null,
   "id": "7cde5d1f",
   "metadata": {
    "scrolled": false
   },
   "outputs": [],
   "source": [
    "#show map's transformation\n",
    "display(HTML(\"<div style='display:flex; justify-content:center;'><img src='pipeline.png' style='max-width:100%;'></div>\"))"
   ]
  },
  {
   "cell_type": "markdown",
   "id": "ebadf971",
   "metadata": {},
   "source": [
    "The columns not shown in the figure do not need to be transformed.\n",
    "\n",
    "In the dataset, all columns are complete except for bmi, which has many missing values.\n",
    "\n",
    "Columns with categorical data: gender, ever_married, work_type, residence_type and smoking_status; OneHot Encoder can be used.\n",
    "\n",
    "The age column has numeric variables with different scales; Standard Scaler will be used to make it uniform.\n",
    "\n",
    "KNN Imputer will only be used on the bmi column, so missing values will be replaced with the closest ones; finally, Standard Scaler will also be used to standardise the values."
   ]
  },
  {
   "cell_type": "code",
   "execution_count": null,
   "id": "d52ffb10",
   "metadata": {
    "scrolled": false
   },
   "outputs": [],
   "source": [
    "#setting up the transformations\n",
    "pip = Pipeline([\n",
    "    ('imp', KNNImputer(n_neighbors=5)),\n",
    "    ('scaler', StandardScaler())\n",
    "])\n",
    "\n",
    "final_transformation = ColumnTransformer(transformers=[\n",
    "    ('one_hot_encoder', OneHotEncoder(drop='first',categories='auto',handle_unknown='ignore'),['gender','ever_married','work_type','Residence_type', 'smoking_status'] ),\n",
    "    ('age_column', StandardScaler(),['age']),\n",
    "    ('bmi_column', pip, ['bmi'] )\n",
    "],\n",
    "remainder='passthrough', #non fa nulla sulle colonne non menzionate\n",
    "verbose_feature_names_out=False,\n",
    "sparse_threshold=0 #per ottenere l'array\n",
    ")"
   ]
  },
  {
   "cell_type": "markdown",
   "id": "5f05ddee",
   "metadata": {},
   "source": [
    "<a id = '3'></a>\n",
    "<h1 style=\"background-color:#eaeaea;font-family:Calibri;color:green;font-size:250%;text-align:center;border-radius: 50px;padding:10px 30px\">Model Selection: stroke</h1>"
   ]
  },
  {
   "cell_type": "code",
   "execution_count": null,
   "id": "a935aa6d",
   "metadata": {},
   "outputs": [],
   "source": [
    "#select data \n",
    "id = df_stroke['id']\n",
    "X = df_stroke.drop(['id', 'stroke'], axis=1) \n",
    "y = df_stroke[\"stroke\"]  #select target column\n",
    "\n",
    "n_samples, n_features = X.shape\n",
    "n_samples, n_features"
   ]
  },
  {
   "cell_type": "code",
   "execution_count": null,
   "id": "63065bcb",
   "metadata": {
    "scrolled": false
   },
   "outputs": [],
   "source": [
    "#sets the test dataset by 20% and the training dataset by 80%.\n",
    "X_train, X_test, y_train, y_test = train_test_split(X, y, test_size=0.2, stratify = y, random_state=30, shuffle=True)"
   ]
  },
  {
   "cell_type": "code",
   "execution_count": null,
   "id": "a47b9f58",
   "metadata": {
    "scrolled": false
   },
   "outputs": [],
   "source": [
    "#proceed by defining a starting pipeline\n",
    "model_pipeline = IMBPipeline([\n",
    "    ('trans', final_transformation), #transformation of data\n",
    "    ('sampler', SMOTE()), #balancing y\n",
    "    ('dim_reduction', PCA(n_components=0.8)),\n",
    "    ('classifier', Perceptron())\n",
    "])"
   ]
  },
  {
   "cell_type": "code",
   "execution_count": null,
   "id": "88f6f4cb",
   "metadata": {
    "scrolled": false
   },
   "outputs": [],
   "source": [
    "#training the model\n",
    "model_pipeline.fit(X_train,y_train)"
   ]
  },
  {
   "cell_type": "code",
   "execution_count": null,
   "id": "038714b2",
   "metadata": {
    "scrolled": false
   },
   "outputs": [],
   "source": [
    "#predict\n",
    "model_pipeline.predict(X_test)"
   ]
  },
  {
   "cell_type": "code",
   "execution_count": null,
   "id": "4fee2ebd",
   "metadata": {
    "scrolled": false
   },
   "outputs": [],
   "source": [
    "#count's predict\n",
    "np.set_printoptions(threshold=np.inf)\n",
    "preds = model_pipeline.predict(X_test)\n",
    "len(preds)"
   ]
  },
  {
   "cell_type": "code",
   "execution_count": null,
   "id": "e0e78077",
   "metadata": {
    "scrolled": false
   },
   "outputs": [],
   "source": [
    "#possible configurations\n",
    "sampler_configs = [\n",
    "    {\n",
    "        'sampler':[None],#No dampsampling o upsampling \n",
    "    },\n",
    "    {\n",
    "        'sampler':[SMOTE(n_jobs=-1)],\n",
    "        'sampler__sampling_strategy':['minority', 1.2, 0.9, 0.7]\n",
    "    },\n",
    "    {\n",
    "        'sampler':[RandomOverSampler()],\n",
    "        'sampler__sampling_strategy':['minority', 1.2, 0.9, 0.7]\n",
    "    }\n",
    "]\n",
    "\n",
    "dim_reduction_configs = [\n",
    "    {\n",
    "        'dim_reduction': [None] #No reduction\n",
    "    },\n",
    "    {\n",
    "        'dim_reduction': [PCA()],\n",
    "        'dim_reduction__n_components': [0.5, 0.7, 0.9]\n",
    "    },\n",
    "    {\n",
    "        'dim_reduction': [LDA()]\n",
    "    },\n",
    "    {\n",
    "        'dim_reduction': [SFS(estimator=Perceptron(), cv = None, scoring = 'f1')],\n",
    "        'dim_reduction__estimator': [Perceptron(), LogisticRegression()],\n",
    "        'dim_reduction__k_features' : [5,7,10]  \n",
    "    }\n",
    "]\n",
    "\n",
    "classifier_configs = [\n",
    "    {\n",
    "        'classifier__eta0' : loguniform(0.001,100),\n",
    "        'classifier': [Perceptron()] ,\n",
    "        'classifier__max_iter': [1,5,10,15,50,100] ,\n",
    "        'classifier__class_weight' : [None, 'balanced']\n",
    "\n",
    "    },\n",
    "    {\n",
    "        'classifier': [LogisticRegression(solver='saga')],\n",
    "        'classifier__C' : loguniform(0.001,100),\n",
    "        'classifier__penalty': ['l1','l2'],\n",
    "        'classifier__class_weight' : [None, 'balanced']\n",
    "\n",
    "    },\n",
    "    {\n",
    "        'classifier': [KNeighborsClassifier()],\n",
    "        'classifier__n_neighbors': [3,5,7,9]\n",
    "    },\n",
    "    {\n",
    "        'classifier' : [RandomForestClassifier()],\n",
    "        'classifier__n_estimators' : [10,50,100, 500]\n",
    "    }\n",
    "]"
   ]
  },
  {
   "cell_type": "code",
   "execution_count": null,
   "id": "938052b1",
   "metadata": {
    "scrolled": false
   },
   "outputs": [],
   "source": [
    "#creates possible configurations to be passed to RandomSearchCV object\n",
    "all_configs = []\n",
    "for configuration in itertools.product(sampler_configs,dim_reduction_configs,classifier_configs):\n",
    "    # Merging of three dictionary into one\n",
    "    all_parameters = []\n",
    "    for element in configuration:\n",
    "        for item in element.items():\n",
    "            all_parameters.append(item)\n",
    "    all_configs.append(dict(all_parameters)) # by dict(all_parameters) we create a dict from a list of pairs (key:value)\n",
    "    \n",
    "print(f'Number of possible configurations: {len(all_configs)}')"
   ]
  },
  {
   "cell_type": "code",
   "execution_count": null,
   "id": "1c30a6a1",
   "metadata": {
    "scrolled": false
   },
   "outputs": [],
   "source": [
    "#select the best candidates and optimizes hyperparameters \n",
    "rs = RandomizedSearchCV(model_pipeline,\n",
    "    param_distributions=all_configs,\n",
    "    n_iter=len(all_configs) * 5,\n",
    "    n_jobs=1, #processors (-1 = All)\n",
    "    cv = 2,\n",
    "    scoring='f1'\n",
    ")"
   ]
  },
  {
   "cell_type": "code",
   "execution_count": null,
   "id": "7f462f7b",
   "metadata": {
    "scrolled": false
   },
   "outputs": [],
   "source": [
    "#cross validation\n",
    "scores = cross_validate(rs, X_train, y_train, scoring='f1', cv = 5, return_estimator=True, verbose=5) "
   ]
  },
  {
   "cell_type": "markdown",
   "id": "33ad0178",
   "metadata": {},
   "source": [
    "<a id = '3.1'></a>\n",
    "<h1 style=\"font-size: 150%;\">Outcome</h1>"
   ]
  },
  {
   "cell_type": "code",
   "execution_count": null,
   "id": "db5d90dd",
   "metadata": {
    "scrolled": false
   },
   "outputs": [],
   "source": [
    "#print information on best-performing models\n",
    "for index, estimator in enumerate(scores['estimator']):\n",
    "    print(estimator.best_estimator_.get_params()['sampler'])\n",
    "    print(estimator.best_estimator_.get_params()['dim_reduction'])\n",
    "    print(estimator.best_estimator_.get_params()['classifier'],'\\n',estimator.best_estimator_.get_params()['classifier'].get_params())\n",
    "    print(f\"{scores['test_score'][index]*100:.2f}%\")\n",
    "    print('-'*10)"
   ]
  },
  {
   "cell_type": "markdown",
   "id": "17ac78d0",
   "metadata": {},
   "source": [
    "<font size=\"4\" color=magenta> The highest score, therefore the best, is the penultimate model: </font> <font size=\"4\"><b> LogisticRegression around 27%</font>"
   ]
  },
  {
   "cell_type": "code",
   "execution_count": null,
   "id": "d9cb1dad",
   "metadata": {
    "scrolled": false
   },
   "outputs": [],
   "source": [
    "#implement the above evaluation\n",
    "for estimator in scores['estimator']:\n",
    "    pred_train = estimator.best_estimator_.fit(X_train, y_train)\n",
    "    pred_train = estimator.best_estimator_.predict(X_train)\n",
    "    pred_test = estimator.best_estimator_.predict(X_test)\n",
    "    f1_train = f1_score(y_train, pred_train)\n",
    "    f1_test = f1_score(y_test, pred_test)\n",
    "    print(f'F1 on training set:{f1_train}, F1 on test set:{f1_test}')"
   ]
  },
  {
   "cell_type": "markdown",
   "id": "6cea3940",
   "metadata": {},
   "source": [
    "<a id = '3.2'></a>\n",
    "<h1 style=\"font-size: 150%;\">Refinement of the selected model</h1>\n",
    "\n",
    "Previously, we selected one of the best candidate models. Now, we perform the hyperparameter optimization again by fixing the modelling approach and varying the hyperparameters in a range close to that of the selected "
   ]
  },
  {
   "cell_type": "code",
   "execution_count": null,
   "id": "4ce1081d",
   "metadata": {
    "scrolled": false
   },
   "outputs": [],
   "source": [
    "#sets best pipline\n",
    "best_model_pipeline = IMBPipeline([\n",
    "    ('trans', final_transformation),\n",
    "    ('sampler', SMOTE(n_jobs=1, sampling_strategy=0.7)), #processors (-1 = All)\n",
    "    ('feature_selector', LDA()),\n",
    "    ('classifier',LogisticRegression(solver='saga', penalty = 'l1'))\n",
    "])"
   ]
  },
  {
   "cell_type": "code",
   "execution_count": null,
   "id": "62d13d72",
   "metadata": {
    "scrolled": false
   },
   "outputs": [],
   "source": [
    "#set up an even distribution\n",
    "params = {\n",
    "    'classifier__C': uniform(loc = 15, scale = 60)\n",
    "}"
   ]
  },
  {
   "cell_type": "code",
   "execution_count": null,
   "id": "7abb2832",
   "metadata": {
    "scrolled": false
   },
   "outputs": [],
   "source": [
    "#random search on the hyperparameters of the model represented by the best_model_pipeline\n",
    "rs_best = RandomizedSearchCV(\n",
    "    estimator = best_model_pipeline,\n",
    "    param_distributions = params,\n",
    "    cv = RepeatedStratifiedKFold(n_splits=5, n_repeats=3),\n",
    "    n_iter=20,\n",
    "    scoring='f1'\n",
    ")"
   ]
  },
  {
   "cell_type": "code",
   "execution_count": null,
   "id": "7ccef88d",
   "metadata": {
    "scrolled": false
   },
   "outputs": [],
   "source": [
    "#training the model\n",
    "rs_best.fit(X_train, y_train)"
   ]
  },
  {
   "cell_type": "code",
   "execution_count": null,
   "id": "785919a6",
   "metadata": {
    "scrolled": false
   },
   "outputs": [],
   "source": [
    "#model instance with the best found hyperparameters\n",
    "rs_best.best_estimator_"
   ]
  },
  {
   "cell_type": "code",
   "execution_count": null,
   "id": "14b6e740",
   "metadata": {
    "scrolled": false
   },
   "outputs": [],
   "source": [
    "#compute the F1-score on the test set\n",
    "score=f1_score(y_test, rs_best.best_estimator_.predict(X_test))\n",
    "m_score = round((score * 100), 2)\n",
    "print(f'f1_score {m_score}%')\n",
    "    "
   ]
  },
  {
   "cell_type": "code",
   "execution_count": null,
   "id": "9ccc4fa3",
   "metadata": {
    "scrolled": false
   },
   "outputs": [],
   "source": [
    "cls = rs_best.best_estimator_"
   ]
  },
  {
   "cell_type": "code",
   "execution_count": null,
   "id": "e07b474b",
   "metadata": {
    "scrolled": false
   },
   "outputs": [],
   "source": [
    "#measuring the performance of the model on training datasets of increasing size and on test datasets\n",
    "train_sizes, train_scores, test_scores = learning_curve(cls,\n",
    "                                                       X=X_train,\n",
    "                                                       y=y_train,\n",
    "                                                       train_sizes= [0.01, 0.1, 0.2, 0.3, 0.4, 0.5, 0.6, 0.7, 0.8, 0.9, 1.0],\n",
    "                                                       cv = 5,\n",
    "                                                       n_jobs = 1,\n",
    "                                                       scoring = 'f1',\n",
    "                                                       shuffle = False)"
   ]
  },
  {
   "cell_type": "markdown",
   "id": "f5cea486",
   "metadata": {},
   "source": [
    "<a id = '3.3'></a>\n",
    "<h1 style=\"font-size: 150%;\">Learning curve</h1>"
   ]
  },
  {
   "cell_type": "code",
   "execution_count": null,
   "id": "34643898",
   "metadata": {
    "scrolled": false
   },
   "outputs": [],
   "source": [
    "#learning curve to evaluate how the performance of the model varies with the size of the training set\n",
    "train_mean = np.mean(train_scores, axis=1)\n",
    "train_std = np.std(train_scores, axis=1)\n",
    "test_mean = np.mean(test_scores, axis=1)\n",
    "test_std = np.std(test_scores, axis=1)\n",
    "\n",
    "fig=plt.figure(figsize=(12,7))\n",
    "ax = fig.add_subplot()\n",
    "\n",
    "ax.plot(train_sizes, train_mean,\n",
    "         color='blue', marker='+',\n",
    "         markersize=5, label='Training accuracy')\n",
    "\n",
    "ax.fill_between(train_sizes,\n",
    "                 train_mean + train_std,\n",
    "                 train_mean - train_std,\n",
    "                 alpha=0.15, color='blue')\n",
    "\n",
    "ax.plot(train_sizes, test_mean,\n",
    "         color='green', linestyle='--',\n",
    "         marker='d', markersize=5,\n",
    "         label='Validation accuracy')\n",
    "\n",
    "ax.fill_between(train_sizes,\n",
    "                 test_mean + test_std,\n",
    "                 test_mean - test_std,\n",
    "                 alpha=0.15, color='green')\n",
    "\n",
    "ax.grid()\n",
    "ax.set_xlabel('Training set size')\n",
    "ax.set_ylabel('F1-score')\n",
    "ax.legend(loc='lower right')\n",
    "ax.set_ylim([0.1, 0.55])\n",
    "ax.set_xlim([300, 3300])\n",
    "\n",
    "plt.show()"
   ]
  },
  {
   "cell_type": "markdown",
   "id": "7537ced4",
   "metadata": {},
   "source": [
    "Il grafico mostra la curva di apprendimento (learning curve) per valutare come varia la performance del modello al variare della dimensione del set di addestramento.\n",
    "\n",
    "La curva blu mostra l'accuratezza del modello sul set di addestramento, mentre la curva verde indica l'accuratezza sul set di validazione. Le aree colorate intorno alle due curve rappresentano la deviazione standard dell'accuratezza.\n",
    "\n",
    "L'accuratezza del modello diminuisce rapidamente all'aumentare della dimensione del set di addestramento per poi risalire e quindi stabilizzarsi. Non ci sono problemi di overfitting, la linea dell'accuratezza sul set di addestramento non è mai di molto superiore a quella sul set di validazione, quindi non si sta perdendo di generalità.\n",
    "\n",
    "Le linee disegnate rappresentano la media delle accuracy/f1-score ottenute dal modello sui diversi set di addestramento e di validazione, mentre le aree colorate rappresentano l'intervallo di confidenza associato a tali medie, calcolato in base alle deviazioni standard.\n"
   ]
  },
  {
   "cell_type": "code",
   "execution_count": null,
   "id": "519acfdc",
   "metadata": {},
   "outputs": [],
   "source": [
    "range_C = [0.001,0.01,0.1,1,10,100]\n",
    "train_scores, test_scores = validation_curve(cls,\n",
    "        X=X_train, \n",
    "        y=y_train, \n",
    "        param_range=\n",
    "        range_C, \n",
    "        param_name='classifier__C',\n",
    "        cv=5, \n",
    "        n_jobs=-1, \n",
    "        scoring='f1'\n",
    ")"
   ]
  },
  {
   "cell_type": "code",
   "execution_count": null,
   "id": "e2a81d4b",
   "metadata": {
    "scrolled": false
   },
   "outputs": [],
   "source": [
    "train_mean = np.mean(train_scores, axis=1)\n",
    "train_std = np.std(train_scores, axis=1)\n",
    "test_mean = np.mean(test_scores, axis=1)\n",
    "test_std = np.std(test_scores, axis=1)\n",
    "\n",
    "fig=plt.figure(figsize=(12,7))\n",
    "ax = fig.add_subplot()\n",
    "ax.plot(range_C, train_mean,\n",
    "         color='blue', marker='o',\n",
    "         markersize=5, label='Training accuracy')\n",
    "\n",
    "ax.fill_between(range_C,\n",
    "                 train_mean + train_std,\n",
    "                 train_mean - train_std,\n",
    "                 alpha=0.15, color='blue')\n",
    "\n",
    "ax.plot(range_C, test_mean,\n",
    "         color='green', linestyle='--',\n",
    "         marker='s', markersize=5,\n",
    "         label='Validation accuracy')\n",
    "\n",
    "ax.fill_between(range_C,\n",
    "                 test_mean + test_std,\n",
    "                 test_mean - test_std,\n",
    "                 alpha=0.15, color='green')\n",
    "\n",
    "ax.grid()\n",
    "ax.set_xlabel('Parameter C')\n",
    "ax.set_ylabel('F1-score')\n",
    "ax.legend(loc='lower right')\n",
    "ax.set_xscale('log')\n",
    "ax.set_ylim([0.20, 0.32]) \n",
    "\n",
    "plt.show()"
   ]
  },
  {
   "cell_type": "code",
   "execution_count": null,
   "id": "c00dcb44",
   "metadata": {},
   "outputs": [],
   "source": []
  },
  {
   "cell_type": "code",
   "execution_count": null,
   "id": "a1d96b12",
   "metadata": {},
   "outputs": [],
   "source": []
  },
  {
   "cell_type": "code",
   "execution_count": null,
   "id": "a9d579c6",
   "metadata": {},
   "outputs": [],
   "source": []
  },
  {
   "cell_type": "markdown",
   "id": "d19621f0",
   "metadata": {},
   "source": [
    "<a id = '4'></a>\n",
    "<h1 style=\"background-color:#eaeaea;font-family:Calibri;color:#fe0b50;font-size:250%;text-align:center;border-radius: 50px;padding:10px 30px\">Another round with lifestyle</h1>"
   ]
  },
  {
   "cell_type": "markdown",
   "id": "3f34d688",
   "metadata": {},
   "source": [
    "Creo una nuova colonna \"sport\" in base alla condizione che l'individuo:\n",
    "- non abbia mai fumato (\"smoking_status\" diverso da \"never smoked\")\n",
    "- sia di età inferiore ai 65 anni (\"age\" minore di 65) \n",
    "- non abbia l'ipertensione (\"hypertension\" uguale a 0)"
   ]
  },
  {
   "cell_type": "code",
   "execution_count": null,
   "id": "01afaf30",
   "metadata": {},
   "outputs": [],
   "source": [
    "#loading data\n",
    "df_stroke_s = pd.read_csv('healthcare-dataset-stroke-data.csv', delimiter = ',')"
   ]
  },
  {
   "cell_type": "code",
   "execution_count": null,
   "id": "687f7cfd",
   "metadata": {},
   "outputs": [],
   "source": [
    "#new cloumn\n",
    "df_stroke_s['sport'] = df_stroke_s.apply(ut.sport, axis=1).astype('int64')\n",
    "df_stroke_s.head(3)"
   ]
  },
  {
   "cell_type": "code",
   "execution_count": null,
   "id": "cc49530c",
   "metadata": {},
   "outputs": [],
   "source": [
    "#info about DataFrame\n",
    "df_stroke_s.info()"
   ]
  },
  {
   "cell_type": "markdown",
   "id": "a7ce22b9",
   "metadata": {},
   "source": [
    "There are three types of data in the dataset:\n",
    "1. *Categorical* : gender, ever_married, work_type, Residence_type, smoking_status\n",
    "2. *Binary Numerical* : hypertension,heart_disease, stroke\n",
    "3. *Continous Numerical* : age, avg_glucose_level, bmi"
   ]
  },
  {
   "cell_type": "code",
   "execution_count": null,
   "id": "12603147",
   "metadata": {
    "scrolled": true
   },
   "outputs": [],
   "source": [
    "#unique column values with categorical data type\n",
    "for col in df_stroke_s.select_dtypes('object').columns:\n",
    "    print(col + \"'s value:\", df_stroke_s[col].unique().tolist())"
   ]
  },
  {
   "cell_type": "code",
   "execution_count": null,
   "id": "54f8e0ba",
   "metadata": {},
   "outputs": [],
   "source": []
  },
  {
   "cell_type": "code",
   "execution_count": null,
   "id": "be80a33f",
   "metadata": {},
   "outputs": [],
   "source": []
  },
  {
   "cell_type": "code",
   "execution_count": null,
   "id": "86c2dee7",
   "metadata": {},
   "outputs": [],
   "source": []
  },
  {
   "cell_type": "code",
   "execution_count": null,
   "id": "dcc2be62",
   "metadata": {},
   "outputs": [],
   "source": [
    "df_stroke_s.gender = df_stroke_s.gender.replace({'Male':0,'Female':1,'Other':-1}).astype(np.int64)\n",
    "df_stroke_s.ever_married = df_stroke_s.ever_married.replace({'No':0,'Yes':1}).astype(np.int64)\n",
    "df_stroke_s.work_type = df_stroke_s.work_type.replace({'Private':0,'Self-employed':1,'Govt_job':2,'children':-1,'Never_worked':-2}).astype(np.int64)\n",
    "df_stroke_s.Residence_type = df_stroke_s.Residence_type.replace({'Rural':0,'Urban':1}).astype(np.int64)\n",
    "df_stroke_s.smoking_status = df_stroke_s.smoking_status.replace({'formerly smoked':0,'never smoked':1,'smokes':2,'Unknown':-1}).astype(np.int64)"
   ]
  },
  {
   "cell_type": "code",
   "execution_count": null,
   "id": "f4bcf3ca",
   "metadata": {},
   "outputs": [],
   "source": [
    "df_stroke_s.bmi.replace(to_replace=np.nan, value=df_stroke_s.bmi.mean(),inplace=True)"
   ]
  },
  {
   "cell_type": "code",
   "execution_count": null,
   "id": "1a28c938",
   "metadata": {
    "scrolled": false
   },
   "outputs": [],
   "source": [
    "X = df_stroke_s.drop(['id', 'sport'], axis=1)\n",
    "#Data correlation control\n",
    "ut.correlation_matrix(X, 'prova')"
   ]
  },
  {
   "cell_type": "code",
   "execution_count": null,
   "id": "db7f8c8a",
   "metadata": {},
   "outputs": [],
   "source": [
    "plt.figure(figsize = (9,7))\n",
    "sns.heatmap(('smoking_status','hypertension','smoking_status').corr(), annot = True, center = 0)\n",
    "plt.show()"
   ]
  },
  {
   "cell_type": "markdown",
   "id": "85dff5e0",
   "metadata": {},
   "source": [
    "<a id = '4.1'></a>\n",
    "<h1 style=\"background-color:#eaeaea;font-family:Calibri;color:Green ;font-size:250%;text-align:center;border-radius: 50px;padding:10px 30px\">Model Selection: sport</h1>"
   ]
  },
  {
   "cell_type": "code",
   "execution_count": null,
   "id": "531308a0",
   "metadata": {},
   "outputs": [],
   "source": [
    "#loading data\n",
    "df_stroke_s = pd.read_csv('healthcare-dataset-stroke-data.csv', delimiter = ',')"
   ]
  },
  {
   "cell_type": "code",
   "execution_count": null,
   "id": "6f33392e",
   "metadata": {},
   "outputs": [],
   "source": [
    "df_stroke_s['age_cat'] = pd.cut(df_stroke_s['age'], bins = [0,18,200], labels = ['Children/Teens', 'Adults/Elderly'])\n"
   ]
  },
  {
   "cell_type": "code",
   "execution_count": null,
   "id": "2176c0a3",
   "metadata": {},
   "outputs": [],
   "source": [
    "df_stroke_s.info()"
   ]
  },
  {
   "cell_type": "code",
   "execution_count": null,
   "id": "ead8cd29",
   "metadata": {},
   "outputs": [],
   "source": [
    "#'Children', 'Teens', 'Adults','Mid Adults','Elderly'\n",
    "#stoke's coloumn value\n",
    "counts = df_stroke_s['age_cat'].value_counts()\n",
    "c = counts['Children/Teens']\n",
    "a = counts['Adults/Elderly']\n",
    "print(f'The age_cat column has:\\n {c} values equal to Children/Teens\\n {a} values equal to Adults\\Elderly')\n"
   ]
  },
  {
   "cell_type": "code",
   "execution_count": null,
   "id": "be349072",
   "metadata": {},
   "outputs": [],
   "source": [
    "df_stroke_s.age_cat = df_stroke_s.age_cat.replace({'Children/Teens':0,'Adults/Elderly':1}).astype(np.int64)\n"
   ]
  },
  {
   "cell_type": "code",
   "execution_count": null,
   "id": "dd788454",
   "metadata": {},
   "outputs": [],
   "source": [
    "#set data\n",
    "X = df_stroke_s.drop(['id', 'age_cat'], axis=1)\n",
    "y = df_stroke_s['age_cat']  # select target column\n",
    "X_train, X_test, y_train, y_test = train_test_split(X, y, test_size=0.2, random_state=30, shuffle=True)"
   ]
  },
  {
   "cell_type": "code",
   "execution_count": null,
   "id": "a343a076",
   "metadata": {},
   "outputs": [],
   "source": [
    "y"
   ]
  },
  {
   "cell_type": "code",
   "execution_count": null,
   "id": "7073bde4",
   "metadata": {},
   "outputs": [],
   "source": [
    "#setting up the transformations\n",
    "pip = Pipeline([\n",
    "    ('imp', KNNImputer(n_neighbors=5)),\n",
    "    ('scaler', StandardScaler())\n",
    "])\n",
    "\n",
    "final_transformation = ColumnTransformer(transformers=[\n",
    "    ('one_hot_encoder', OneHotEncoder(drop='first',categories='auto',handle_unknown='ignore'),['gender','ever_married','work_type','Residence_type', 'smoking_status'] ),\n",
    "    ('age_column', StandardScaler(),['age']),\n",
    "    ('bmi_column', pip, ['bmi'] )\n",
    "],\n",
    "remainder='passthrough', #non fa nulla sulle colonne non menzionate\n",
    "verbose_feature_names_out=False,\n",
    "sparse_threshold=0 #per ottenere l'array\n",
    ")"
   ]
  },
  {
   "cell_type": "code",
   "execution_count": null,
   "id": "177e2d2f",
   "metadata": {
    "scrolled": false
   },
   "outputs": [],
   "source": [
    "#proceed by defining a starting pipeline\n",
    "model_pipeline = IMBPipeline([\n",
    "    ('trans', final_transformation), #transformation of data\n",
    "    ('sampler', SMOTE()), #balancing y\n",
    "    ('dim_reduction', PCA(n_components=0.8)),\n",
    "    ('classifier', Perceptron())\n",
    "])"
   ]
  },
  {
   "cell_type": "code",
   "execution_count": null,
   "id": "16f23a74",
   "metadata": {},
   "outputs": [],
   "source": [
    "#training the model\n",
    "model_pipeline.fit(X_train,y_train)"
   ]
  },
  {
   "cell_type": "code",
   "execution_count": null,
   "id": "370a319c",
   "metadata": {},
   "outputs": [],
   "source": [
    "#predict\n",
    "model_pipeline.predict(X_test)"
   ]
  },
  {
   "cell_type": "code",
   "execution_count": null,
   "id": "7ba19e16",
   "metadata": {
    "scrolled": false
   },
   "outputs": [],
   "source": [
    "#count's predict\n",
    "np.set_printoptions(threshold=np.inf)\n",
    "preds = model_pipeline.predict(X_test)\n",
    "len(preds)"
   ]
  },
  {
   "cell_type": "code",
   "execution_count": null,
   "id": "78da0d7e",
   "metadata": {},
   "outputs": [],
   "source": [
    "#possible configurations\n",
    "sampler_configs = [\n",
    "    {\n",
    "        'sampler':[None],#No dampsampling o upsampling \n",
    "    },\n",
    "    {\n",
    "        'sampler':[SMOTE(n_jobs=-1)],\n",
    "        'sampler__sampling_strategy':['minority', 1.2, 0.9, 0.7]\n",
    "    },\n",
    "    {\n",
    "        'sampler':[RandomOverSampler()],\n",
    "        'sampler__sampling_strategy':['minority', 1.2, 0.9, 0.7]\n",
    "    }\n",
    "]\n",
    "\n",
    "dim_reduction_configs = [\n",
    "    {\n",
    "        'dim_reduction': [None] #No reduction\n",
    "    },\n",
    "    {\n",
    "        'dim_reduction': [PCA()],\n",
    "        'dim_reduction__n_components': [0.5, 0.7, 0.9]\n",
    "    },\n",
    "    {\n",
    "        'dim_reduction': [LDA()]\n",
    "    },\n",
    "    {\n",
    "        'dim_reduction': [SFS(estimator=Perceptron(), cv = None, scoring = 'f1')],\n",
    "        'dim_reduction__estimator': [Perceptron(), LogisticRegression()],\n",
    "        'dim_reduction__k_features' : [5,7,10]  \n",
    "    }\n",
    "]\n",
    "\n",
    "classifier_configs = [\n",
    "    {\n",
    "        'classifier__eta0' : loguniform(0.001,100),\n",
    "        'classifier': [Perceptron()] ,\n",
    "        'classifier__max_iter': [1,5,10,15,50,100] ,\n",
    "        'classifier__class_weight' : [None, 'balanced']\n",
    "\n",
    "    },\n",
    "    {\n",
    "        'classifier': [LogisticRegression(solver='saga')],\n",
    "        'classifier__C' : loguniform(0.001,100),\n",
    "        'classifier__penalty': ['l1','l2'],\n",
    "        'classifier__class_weight' : [None, 'balanced']\n",
    "\n",
    "    },\n",
    "    {\n",
    "        'classifier': [KNeighborsClassifier()],\n",
    "        'classifier__n_neighbors': [3,5,7,9]\n",
    "    },\n",
    "    {\n",
    "        'classifier' : [RandomForestClassifier()],\n",
    "        'classifier__n_estimators' : [10,50,100, 500]\n",
    "    }\n",
    "]"
   ]
  },
  {
   "cell_type": "code",
   "execution_count": null,
   "id": "c6622faf",
   "metadata": {},
   "outputs": [],
   "source": [
    "#creates possible configurations to be passed to RandomSearchCV object\n",
    "all_configs = []\n",
    "for configuration in itertools.product(sampler_configs,dim_reduction_configs,classifier_configs):\n",
    "    # Merging of three dictionary into one\n",
    "    all_parameters = []\n",
    "    for element in configuration:\n",
    "        for item in element.items():\n",
    "            all_parameters.append(item)\n",
    "    all_configs.append(dict(all_parameters)) # by dict(all_parameters) we create a dict from a list of pairs (key:value)\n",
    "    \n",
    "print(f'Number of possible configurations: {len(all_configs)}')"
   ]
  },
  {
   "cell_type": "code",
   "execution_count": null,
   "id": "5a42a648",
   "metadata": {},
   "outputs": [],
   "source": [
    "#select the best candidates and optimizes hyperparameters \n",
    "rs = RandomizedSearchCV(model_pipeline,\n",
    "    param_distributions=all_configs,\n",
    "    n_iter=len(all_configs) * 5,\n",
    "    n_jobs=1, #processors (-1 = All)\n",
    "    cv = 2,\n",
    "    scoring='f1'\n",
    ")"
   ]
  },
  {
   "cell_type": "code",
   "execution_count": null,
   "id": "ff2ca7e5",
   "metadata": {},
   "outputs": [],
   "source": [
    "#cross validation\n",
    "scores = cross_validate(rs, X_train, y_train, scoring='f1', cv = 5, return_estimator=True, verbose=5) "
   ]
  },
  {
   "cell_type": "markdown",
   "id": "856d53c5",
   "metadata": {},
   "source": [
    "<a id = '4.2'></a>\n",
    "<h1 style=\"font-size: 150%;\">Outcome</h1>\n"
   ]
  },
  {
   "cell_type": "code",
   "execution_count": null,
   "id": "79b1546c",
   "metadata": {},
   "outputs": [],
   "source": [
    "#print information on best-performing models\n",
    "for index, estimator in enumerate(scores['estimator']):\n",
    "    print(estimator.best_estimator_.get_params()['sampler'])\n",
    "    print(estimator.best_estimator_.get_params()['dim_reduction'])\n",
    "    print(estimator.best_estimator_.get_params()['classifier'],'\\n',estimator.best_estimator_.get_params()['classifier'].get_params())\n",
    "    print(f\"{scores['test_score'][index]*100:.2f}%\")\n",
    "    print('-'*10)"
   ]
  },
  {
   "cell_type": "markdown",
   "id": "d065d213",
   "metadata": {},
   "source": [
    "<a id = '4.3'></a>\n",
    "<h1 style=\"font-size: 150%;\">Refinement of the selected model</h1>\n",
    "\n",
    "Previously, we selected one of the best candidate models. Now, we perform the hyperparameter optimization again by fixing the modelling approach and varying the hyperparameters in a range close to that of the selected "
   ]
  },
  {
   "cell_type": "code",
   "execution_count": null,
   "id": "081699a4",
   "metadata": {},
   "outputs": [],
   "source": [
    "#implement the above evaluation\n",
    "for estimator in scores['estimator']:\n",
    "    pred_train = estimator.best_estimator_.fit(X_train, y_train)\n",
    "    pred_train = estimator.best_estimator_.predict(X_train)\n",
    "    pred_test = estimator.best_estimator_.predict(X_test)\n",
    "    f1_train = f1_score(y_train, pred_train)\n",
    "    f1_test = f1_score(y_test, pred_test)\n",
    "    print(f'F1 on training set:{f1_train}, F1 on test set:{f1_test}')"
   ]
  },
  {
   "cell_type": "code",
   "execution_count": null,
   "id": "f6e86c3d",
   "metadata": {},
   "outputs": [],
   "source": [
    "#sets best pipline\n",
    "best_model_pipeline = Pipeline([\n",
    "    ('trans', final_transformation),\n",
    "    #('sampler', SMOTE(n_jobs=-1, sampling_strategy='minority')),\n",
    "    ('feature_selector', SFS(cv=None, estimator=Perceptron(), k_features=(10, 10), scoring='f1')),\n",
    "    ('classifier', RandomForestClassifier(n_estimators=50))\n",
    "])"
   ]
  },
  {
   "cell_type": "code",
   "execution_count": null,
   "id": "1f8db141",
   "metadata": {},
   "outputs": [],
   "source": [
    "#set up an even distribution\n",
    "params = {\n",
    "    'classifier__max_depth': [None],\n",
    "    'classifier__min_samples_split': [2],\n",
    "    'classifier__min_samples_leaf': [1],\n",
    "    'classifier__bootstrap': [True],\n",
    "    'classifier__max_features': ['sqrt']\n",
    "}"
   ]
  },
  {
   "cell_type": "code",
   "execution_count": null,
   "id": "d9b6c504",
   "metadata": {},
   "outputs": [],
   "source": [
    "#random search on the hyperparameters of the model represented by the best_model_pipeline\n",
    "rs_best = RandomizedSearchCV(\n",
    "    estimator = best_model_pipeline,\n",
    "    param_distributions = params,\n",
    "    cv = RepeatedStratifiedKFold(n_splits=5, n_repeats=3),\n",
    "    n_iter=20,\n",
    "    scoring='f1'\n",
    ")"
   ]
  },
  {
   "cell_type": "code",
   "execution_count": null,
   "id": "9dc373db",
   "metadata": {},
   "outputs": [],
   "source": [
    "#training the model\n",
    "rs_best.fit(X_train, y_train)"
   ]
  },
  {
   "cell_type": "code",
   "execution_count": null,
   "id": "6b0c95c0",
   "metadata": {},
   "outputs": [],
   "source": [
    "#model instance with the best found hyperparameters\n",
    "rs_best.best_estimator_"
   ]
  },
  {
   "cell_type": "code",
   "execution_count": null,
   "id": "e6811ab7",
   "metadata": {},
   "outputs": [],
   "source": [
    "#compute the F1-score on the test set\n",
    "score=f1_score(y_test, rs_best.best_estimator_.predict(X_test))\n",
    "m_score = round((score * 100), 2)\n",
    "print(f'f1_score {m_score}%')\n",
    "    "
   ]
  },
  {
   "cell_type": "code",
   "execution_count": null,
   "id": "421f7d02",
   "metadata": {},
   "outputs": [],
   "source": [
    "cls = rs_best.best_estimator_"
   ]
  },
  {
   "cell_type": "code",
   "execution_count": null,
   "id": "cae3e398",
   "metadata": {},
   "outputs": [],
   "source": [
    "#measuring the performance of the model on training datasets of increasing size and on test datasets\n",
    "train_sizes, train_scores, test_scores = learning_curve(cls,\n",
    "                                                       X=X_train,\n",
    "                                                       y=y_train,\n",
    "                                                       train_sizes= [0.01, 0.1, 0.2, 0.3, 0.4, 0.5, 0.6, 0.7, 0.8, 0.9, 1.0],\n",
    "                                                       cv = 5,\n",
    "                                                       n_jobs = 1,\n",
    "                                                       scoring = 'f1',\n",
    "                                                       shuffle = False)"
   ]
  },
  {
   "cell_type": "markdown",
   "id": "d202159a",
   "metadata": {},
   "source": [
    "<a id = '4.4'></a>\n",
    "<h1 style=\"font-size: 150%;\">Learning curve</h1>"
   ]
  },
  {
   "cell_type": "code",
   "execution_count": null,
   "id": "d468676a",
   "metadata": {},
   "outputs": [],
   "source": [
    "#learning curve to evaluate how the performance of the model varies with the size of the training set\n",
    "train_mean = np.mean(train_scores, axis=1)\n",
    "train_std = np.std(train_scores, axis=1)\n",
    "test_mean = np.mean(test_scores, axis=1)\n",
    "test_std = np.std(test_scores, axis=1)\n",
    "\n",
    "fig=plt.figure(figsize=(12,7))\n",
    "ax = fig.add_subplot()\n",
    "\n",
    "ax.plot(train_sizes, train_mean,\n",
    "         color='blue', marker='+',\n",
    "         markersize=5, label='Training accuracy')\n",
    "\n",
    "ax.fill_between(train_sizes,\n",
    "                 train_mean + train_std,\n",
    "                 train_mean - train_std,\n",
    "                 alpha=0.15, color='blue')\n",
    "\n",
    "ax.plot(train_sizes, test_mean,\n",
    "         color='green', linestyle='--',\n",
    "         marker='d', markersize=5,\n",
    "         label='Validation accuracy')\n",
    "\n",
    "ax.fill_between(train_sizes,\n",
    "                 test_mean + test_std,\n",
    "                 test_mean - test_std,\n",
    "                 alpha=0.15, color='green')\n",
    "\n",
    "ax.grid()\n",
    "ax.set_xlabel('Training set size')\n",
    "ax.set_ylabel('F1-score')\n",
    "ax.legend(loc='lower right')\n",
    "ax.set_ylim([0.80, 1.15])\n",
    "ax.set_xlim([0, 3300])"
   ]
  },
  {
   "cell_type": "markdown",
   "id": "f1faaaf7",
   "metadata": {},
   "source": [
    "Il grafico mostra la curva di apprendimento (learning curve) per valutare come varia la performance del modello al variare della dimensione del set di addestramento.\n",
    "\n",
    "La curva blu mostra l'accuratezza del modello sul set di addestramento, mentre la curva verde indica l'accuratezza sul set di validazione. Le aree colorate intorno alle due curve rappresentano la deviazione standard dell'accuratezza.\n",
    "\n",
    "La linea blu rappresenta la precisione sul set di addestramento e mostra che il modello ha una precisione perfetta (valore 1) su tutto il range di dimensioni del set di addestramento. Questo potrebbe indicare che il modello ha una buona capacità di adattamento ai dati di addestramento e potrebbe essere in grado di memorizzare i dati di addestramento piuttosto che generalizzarli.\n",
    "\n",
    "La linea verde rappresenta la precisione sul set di validazione e mostra che la precisione inizia a un valore inferiore rispetto alla linea blu (circa 0.87) e poi aumenta lentamente per raggiungere il valore della linea blu, sovrapponendosi completamente con essa. Questo potrebbe indicare che il modello sta imparando lentamente dai dati di addestramento e sta iniziando a generalizzare bene ai dati di validazione man mano che la dimensione del set di addestramento aumenta."
   ]
  },
  {
   "cell_type": "markdown",
   "id": "198393e7",
   "metadata": {},
   "source": [
    "<a id = '5'></a>\n",
    "<h1 style=\"background-color:#eaeaea;font-family:Calibri;color:magenta;font-size:250%;text-align:center;border-radius: 50px;padding:10px 30px\">Conclusions</h1>"
   ]
  },
  {
   "cell_type": "code",
   "execution_count": null,
   "id": "a615bc9d",
   "metadata": {},
   "outputs": [],
   "source": []
  },
  {
   "cell_type": "code",
   "execution_count": null,
   "id": "ce74933d",
   "metadata": {},
   "outputs": [],
   "source": []
  },
  {
   "cell_type": "code",
   "execution_count": null,
   "id": "d8932233",
   "metadata": {
    "scrolled": false
   },
   "outputs": [],
   "source": []
  },
  {
   "cell_type": "code",
   "execution_count": null,
   "id": "45d06f80",
   "metadata": {},
   "outputs": [],
   "source": []
  },
  {
   "cell_type": "code",
   "execution_count": null,
   "id": "c0961a9a",
   "metadata": {},
   "outputs": [],
   "source": []
  },
  {
   "cell_type": "code",
   "execution_count": null,
   "id": "b6e12ec6",
   "metadata": {},
   "outputs": [],
   "source": []
  },
  {
   "cell_type": "code",
   "execution_count": null,
   "id": "53c18037",
   "metadata": {},
   "outputs": [],
   "source": []
  },
  {
   "cell_type": "code",
   "execution_count": null,
   "id": "60a5efa1",
   "metadata": {},
   "outputs": [],
   "source": [
    "df.bmi.replace(to_replace=np.nan, value=df.bmi.mean(),inplace=True)\n"
   ]
  },
  {
   "cell_type": "code",
   "execution_count": null,
   "id": "9b116604",
   "metadata": {},
   "outputs": [],
   "source": [
    "oversample = SMOTE()\n",
    "eval_df = df_stroke[['gender','age','hypertension','heart_disease','work_type','avg_glucose_level','bmi','stroke']].sample(int(df_stroke.shape[0]*0.2),random_state=42)\n",
    "train_df = df_stroke.drop(index=eval_df.index)\n",
    "\n",
    "X_eval,y_eval = eval_df[['gender','age','hypertension','heart_disease','work_type','avg_glucose_level','bmi']], eval_df['stroke']\n",
    "X,y = train_df[['gender','age','hypertension','heart_disease','work_type','avg_glucose_level','bmi']], train_df['stroke']\n",
    "\n",
    "\n",
    "X, y = oversample.fit_resample(X,y)\n",
    "usampled_df = X.assign(Stroke = y)\n",
    "\n",
    "X_eval,y_eval = oversample.fit_resample(X_eval,y_eval)\n",
    "usampled_eval_df = X_eval.assign(Stroke = y_eval)"
   ]
  },
  {
   "cell_type": "code",
   "execution_count": null,
   "id": "de1ba2c4",
   "metadata": {},
   "outputs": [],
   "source": [
    "## binning of numerical variables\n",
    "\n",
    "df['bmi_cat'] = pd.cut(df['bmi'], bins = [0, 19, 25,30,10000], labels = ['Underweight', 'Ideal', 'Overweight', 'Obesity'])\n",
    "df['age_cat'] = pd.cut(df['age'], bins = [0,13,18, 45,60,200], labels = ['Children', 'Teens', 'Adults','Mid Adults','Elderly'])\n",
    "df['glucose_cat'] = pd.cut(df['avg_glucose_level'], bins = [0,90,160,230,500], labels = ['Low', 'Normal', 'High', 'Very High'])\n"
   ]
  },
  {
   "cell_type": "code",
   "execution_count": null,
   "id": "ce1eb5b2",
   "metadata": {},
   "outputs": [],
   "source": []
  },
  {
   "cell_type": "code",
   "execution_count": null,
   "id": "0dcb0c3f",
   "metadata": {},
   "outputs": [],
   "source": []
  },
  {
   "cell_type": "code",
   "execution_count": null,
   "id": "61c42631",
   "metadata": {},
   "outputs": [],
   "source": []
  },
  {
   "cell_type": "code",
   "execution_count": null,
   "id": "22ac1706",
   "metadata": {},
   "outputs": [],
   "source": []
  },
  {
   "cell_type": "code",
   "execution_count": null,
   "id": "576fcb40",
   "metadata": {},
   "outputs": [],
   "source": []
  },
  {
   "cell_type": "code",
   "execution_count": null,
   "id": "1741bb3f",
   "metadata": {},
   "outputs": [],
   "source": []
  },
  {
   "cell_type": "code",
   "execution_count": null,
   "id": "1d62897b",
   "metadata": {},
   "outputs": [],
   "source": []
  },
  {
   "cell_type": "code",
   "execution_count": null,
   "id": "97d83705",
   "metadata": {},
   "outputs": [],
   "source": [
    "import pandas as pd\n",
    "\n",
    "X_train_transformed_array = best_model_pipeline.named_steps['trans'].transform(X_train)\n",
    "X_train_transformed_df = pd.DataFrame(X_train_transformed_array, columns=['gender','ever_married','work_type','Residence_type','smoking_status','age','bmi', 'gender','ever_married','work_type','Residence_type','smoking_status','a','b','age','m'])\n",
    "X_train_transformed_df"
   ]
  }
 ],
 "metadata": {
  "kernelspec": {
   "display_name": "Python 3 (ipykernel)",
   "language": "python",
   "name": "python3"
  },
  "language_info": {
   "codemirror_mode": {
    "name": "ipython",
    "version": 3
   },
   "file_extension": ".py",
   "mimetype": "text/x-python",
   "name": "python",
   "nbconvert_exporter": "python",
   "pygments_lexer": "ipython3",
   "version": "3.8.16"
  }
 },
 "nbformat": 4,
 "nbformat_minor": 5
}
